{
 "cells": [
  {
   "cell_type": "markdown",
   "metadata": {},
   "source": [
    "# Module 5 Exercises - Time Series"
   ]
  },
  {
   "cell_type": "markdown",
   "metadata": {},
   "source": [
    "### Exercise 1:\n",
    "\n",
    "Create a numPy datetime variable with today's date. Then create 7 consectuive days (1 week) starting from the variable with today's date."
   ]
  },
  {
   "cell_type": "code",
   "execution_count": 1,
   "metadata": {},
   "outputs": [],
   "source": [
    "import pandas as pd\n",
    "import numpy as np\n",
    "import seaborn; seaborn.set()\n",
    "import matplotlib.pyplot as plt\n",
    "\n",
    "from datetime import datetime\n",
    "\n",
    "%matplotlib inline"
   ]
  },
  {
   "cell_type": "code",
   "execution_count": 3,
   "metadata": {},
   "outputs": [
    {
     "data": {
      "text/plain": [
       "array(['2019-05-30', '2019-05-31', '2019-06-01', '2019-06-02',\n",
       "       '2019-06-03', '2019-06-04', '2019-06-05'], dtype='datetime64[D]')"
      ]
     },
     "execution_count": 3,
     "metadata": {},
     "output_type": "execute_result"
    }
   ],
   "source": [
    "date = np.array('2019-05-30', dtype=np.datetime64)\n",
    "date\n",
    "#creates 12 consecutive dates starting from July 4, 2015\n",
    "date + np.arange(7)"
   ]
  },
  {
   "cell_type": "markdown",
   "metadata": {},
   "source": [
    "### Exercise 2:\n",
    "\n",
    "Create a pandas datetime index with the dates 2016-02-11, 2016-07-01, 2016-07-09, 2016-10-08, 2017-02-18, 2017-02-25, 2017-05-02, 2017-08-26, 2017-12-15, and 2018-02-11. Then create a pandas Series with the values 0,1,2,3,4,5,6,7,8, and 9 in a list, with the dates as the index. Get the rows from the year 2017.  "
   ]
  },
  {
   "cell_type": "code",
   "execution_count": 8,
   "metadata": {},
   "outputs": [
    {
     "data": {
      "text/plain": [
       "2016-02-11    0\n",
       "2016-07-01    1\n",
       "2016-07-09    2\n",
       "2016-10-08    3\n",
       "2017-02-18    4\n",
       "2017-02-25    5\n",
       "2017-05-02    6\n",
       "2017-08-26    7\n",
       "2017-12-15    8\n",
       "2018-02-11    9\n",
       "dtype: int64"
      ]
     },
     "execution_count": 8,
     "metadata": {},
     "output_type": "execute_result"
    }
   ],
   "source": [
    "#make index using timestamp\n",
    "index = pd.DatetimeIndex(['2016-02-11', '2016-07-01',\n",
    "                          '2016-07-09', '2016-10-08',\n",
    "                         '2017-02-18', '2017-02-25',\n",
    "                         '2017-05-02', '2017-08-26', \n",
    "                         '2017-12-15', '2018-02-11'])\n",
    "\n",
    "data = pd.Series([0,1,2,3,4,5,6,7,8,9], index=index) #a series is a singular column from a dataframe\n",
    "data"
   ]
  },
  {
   "cell_type": "code",
   "execution_count": 9,
   "metadata": {},
   "outputs": [
    {
     "data": {
      "text/plain": [
       "2017-02-18    4\n",
       "2017-02-25    5\n",
       "2017-05-02    6\n",
       "2017-08-26    7\n",
       "2017-12-15    8\n",
       "dtype: int64"
      ]
     },
     "execution_count": 9,
     "metadata": {},
     "output_type": "execute_result"
    }
   ],
   "source": [
    "#can slice date index similarly to regular index slicing\n",
    "#includes ending index\n",
    "data['2017-01-01':'2017-12-31']\n"
   ]
  },
  {
   "cell_type": "markdown",
   "metadata": {},
   "source": [
    "Exercise 3:\n",
    "\n",
    "Convert the following date formats into pandas datetime:\n",
    "\n",
    "- datetime(2017, 12, 15)\n",
    "- 8th of October 2016\n",
    "- 20180211\n",
    "- 2017-02-25\n",
    "- 2019-Jan-16"
   ]
  },
  {
   "cell_type": "code",
   "execution_count": 10,
   "metadata": {},
   "outputs": [
    {
     "data": {
      "text/plain": [
       "DatetimeIndex(['2017-12-15', '2016-10-08', '2018-02-11', '2017-02-25',\n",
       "               '2019-01-16'],\n",
       "              dtype='datetime64[ns]', freq=None)"
      ]
     },
     "execution_count": 10,
     "metadata": {},
     "output_type": "execute_result"
    }
   ],
   "source": [
    "#will convert different formats into datetime\n",
    "dates = pd.to_datetime([datetime(2017, 12, 15), '8th of October 2016', '20180211', '2017-02-25', '2019-Jan-16'])\n",
    "dates"
   ]
  },
  {
   "cell_type": "code",
   "execution_count": null,
   "metadata": {},
   "outputs": [],
   "source": []
  },
  {
   "cell_type": "markdown",
   "metadata": {},
   "source": [
    "### Exercise 4:\n",
    "\n",
    "Using the pandas library, make a time delta range that has five periods with a 1 hour 45 minute interval."
   ]
  },
  {
   "cell_type": "code",
   "execution_count": null,
   "metadata": {},
   "outputs": [],
   "source": []
  },
  {
   "cell_type": "markdown",
   "metadata": {},
   "source": [
    "### Exercise 5:\n",
    "\n",
    "Using the pandas library, create a time delta range with 20 business days starting from today's date."
   ]
  },
  {
   "cell_type": "code",
   "execution_count": null,
   "metadata": {},
   "outputs": [],
   "source": []
  },
  {
   "cell_type": "markdown",
   "metadata": {},
   "source": [
    "### Exercise 6:\n",
    "\n",
    "From [this link](https://notebooks.azure.com/priesterkc/projects/DABmaterial/tree/Lv1%20Data%20Analytics/datasets), download the \"smalltravel.csv\" file and upload it to your datasets folder. Import the traveltime_s.csv file into a dataframe. Resample the average speed column by week using the mean, and plot the graph. \n",
    "\n",
    "**Tip**: You do not need to add the line style in the plot code."
   ]
  },
  {
   "cell_type": "code",
   "execution_count": null,
   "metadata": {},
   "outputs": [],
   "source": []
  },
  {
   "cell_type": "markdown",
   "metadata": {},
   "source": [
    "### Exercise 7:\n",
    "\n",
    "Using the dataframe from the previous exercise, write code to group the moving time column by day of the week, then plot the graph.\n",
    "\n",
    "**Tip**: The index list only needs to contain the weekdays. You do not need to add the line style in the plot code."
   ]
  },
  {
   "cell_type": "code",
   "execution_count": null,
   "metadata": {},
   "outputs": [],
   "source": []
  }
 ],
 "metadata": {
  "kernelspec": {
   "display_name": "Python 3",
   "language": "python",
   "name": "python3"
  },
  "language_info": {
   "codemirror_mode": {
    "name": "ipython",
    "version": 3
   },
   "file_extension": ".py",
   "mimetype": "text/x-python",
   "name": "python",
   "nbconvert_exporter": "python",
   "pygments_lexer": "ipython3",
   "version": "3.7.3"
  }
 },
 "nbformat": 4,
 "nbformat_minor": 2
}
