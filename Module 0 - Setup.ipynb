{
 "cells": [
  {
   "cell_type": "code",
   "execution_count": 1,
   "metadata": {},
   "outputs": [],
   "source": [
    "import requests\n",
    "import zipfile"
   ]
  },
  {
   "cell_type": "code",
   "execution_count": 2,
   "metadata": {},
   "outputs": [],
   "source": [
    "# Download datasets zip file & lesson notebooks to Jupyter\n",
    "\n",
    "rootlocation = r\"https://raw.githubusercontent.com/priesterkc/Data-Analytics-Lessons/master/Lv1_Lessons/\"\n",
    "\n",
    "location = rootlocation + \"datasets.zip\"\n",
    "otherlocations = ['Module 1 - Basic Python.ipynb', 'Module 2 - Explore Data.ipynb', 'Module 3 - Data Manipulation.ipynb',\n",
    "                 'Module 4 - Data Visualization.ipynb', 'Module 5 - Time Series.ipynb', 'Module 6 - Correlation and Models.ipynb',\n",
    "                 'Module 7 - Linear Regression.ipynb', 'Module 8 - Logistic Regression.ipynb', 'Module 9 - Decision Trees.ipynb']\n",
    "\n",
    "r = requests.get(location, allow_redirects=True)\n",
    "open('datasets.zip', 'wb').write(r.content)\n",
    "\n",
    "for loc in otherlocations:\n",
    "    location = rootlocation + loc\n",
    "    r = requests.get(location, allow_redirects=True)\n",
    "    open(loc, 'wb').write(r.content)\n",
    "\n",
    "# Unzip zip file to datasets folder\n",
    "zip_ref = zipfile.ZipFile('datasets.zip', 'r')\n",
    "zip_ref.extractall('')\n",
    "zip_ref.close()"
   ]
  },
  {
   "cell_type": "code",
   "execution_count": 3,
   "metadata": {},
   "outputs": [],
   "source": [
    "rootlocation = r\"https://raw.githubusercontent.com/priesterkc/Data-Analytics-Lessons/master/Lv1_Lessons/YourTurnExercises/\"\n",
    "\n",
    "otherlocations = ['Mod1Exercises.ipynb', 'Mod2Exercises.ipynb', 'Mod3Exercises.ipynb',\n",
    "                 'Mod4Exercises.ipynb', 'Mod5Exercises.ipynb', 'Mod6Exercises.ipynb',\n",
    "                 'Mod7Exercises.ipynb', 'Mod8Exercises.ipynb', 'Mod9Exercises.ipynb']\n",
    "\n",
    "for loc in otherlocations:\n",
    "    location = rootlocation + loc\n",
    "    r = requests.get(location, allow_redirects=True)\n",
    "    open(loc, 'wb').write(r.content)"
   ]
  },
  {
   "cell_type": "code",
   "execution_count": null,
   "metadata": {},
   "outputs": [],
   "source": []
  }
 ],
 "metadata": {
  "kernelspec": {
   "display_name": "Python 3",
   "language": "python",
   "name": "python3"
  },
  "language_info": {
   "codemirror_mode": {
    "name": "ipython",
    "version": 3
   },
   "file_extension": ".py",
   "mimetype": "text/x-python",
   "name": "python",
   "nbconvert_exporter": "python",
   "pygments_lexer": "ipython3",
   "version": "3.7.3"
  }
 },
 "nbformat": 4,
 "nbformat_minor": 2
}
